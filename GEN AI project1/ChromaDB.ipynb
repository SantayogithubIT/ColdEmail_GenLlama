{
 "cells": [
  {
   "cell_type": "code",
   "execution_count": 1,
   "id": "226be24c-ef9d-48fb-9aa3-f60c164388a7",
   "metadata": {},
   "outputs": [],
   "source": [
    "import chromadb\n",
    "\n",
    "client = chromadb.Client()\n",
    "collection = client.create_collection(name=\"My_collections\")\n",
    "\n"
   ]
  },
  {
   "cell_type": "code",
   "execution_count": 4,
   "id": "cdd92cc7-00c2-4e8f-bea2-296e5138f9b8",
   "metadata": {},
   "outputs": [
    {
     "name": "stderr",
     "output_type": "stream",
     "text": [
      "Add of existing embedding ID: id1\n",
      "Add of existing embedding ID: id2\n",
      "Add of existing embedding ID: id3\n",
      "Add of existing embedding ID: id4\n",
      "Add of existing embedding ID: id5\n",
      "Insert of existing embedding ID: id1\n",
      "Insert of existing embedding ID: id2\n",
      "Insert of existing embedding ID: id3\n",
      "Insert of existing embedding ID: id4\n",
      "Insert of existing embedding ID: id5\n"
     ]
    }
   ],
   "source": [
    "collection.add(\n",
    "    documents = [\n",
    "        \"Santayo Kundu\",\n",
    "        \"Priyanka Shee\",\n",
    "        \"Saikat Das\",\n",
    "        \"Debkamal Chakraborty\",\n",
    "        \"Arnab Pradhan\"\n",
    "    ],\n",
    "    ids = [\n",
    "        'id1',\n",
    "        'id2',\n",
    "        'id3',\n",
    "        'id4',\n",
    "        'id5'\n",
    "    ]\n",
    ")\n",
    "    "
   ]
  },
  {
   "cell_type": "code",
   "execution_count": 6,
   "id": "b726c85a-487f-46de-af02-2cdea80cf6ac",
   "metadata": {},
   "outputs": [
    {
     "data": {
      "text/plain": [
       "{'ids': ['id1', 'id2', 'id3', 'id4', 'id5'],\n",
       " 'embeddings': None,\n",
       " 'metadatas': [None, None, None, None, None],\n",
       " 'documents': ['Santayo Kundu',\n",
       "  'Priyanka Shee',\n",
       "  'Saikat Das',\n",
       "  'Debkamal Chakraborty',\n",
       "  'Arnab Pradhan'],\n",
       " 'uris': None,\n",
       " 'data': None,\n",
       " 'included': ['metadatas', 'documents']}"
      ]
     },
     "execution_count": 6,
     "metadata": {},
     "output_type": "execute_result"
    }
   ],
   "source": [
    "all_docs = collection.get()\n",
    "\n",
    "all_docs"
   ]
  },
  {
   "cell_type": "code",
   "execution_count": 8,
   "id": "a0258bdf-904e-4bcd-a562-b2db0357bf65",
   "metadata": {},
   "outputs": [
    {
     "data": {
      "text/plain": [
       "{'ids': ['id5'],\n",
       " 'embeddings': None,\n",
       " 'metadatas': [None],\n",
       " 'documents': ['Arnab Pradhan'],\n",
       " 'uris': None,\n",
       " 'data': None,\n",
       " 'included': ['metadatas', 'documents']}"
      ]
     },
     "execution_count": 8,
     "metadata": {},
     "output_type": "execute_result"
    }
   ],
   "source": [
    "documents = collection.get(ids = ['id5'])\n",
    "\n",
    "documents"
   ]
  },
  {
   "cell_type": "code",
   "execution_count": 13,
   "id": "e842615c-f012-4fc6-9aa2-c1605bf3c220",
   "metadata": {},
   "outputs": [
    {
     "data": {
      "text/plain": [
       "{'ids': [['id3', 'id2']],\n",
       " 'distances': [[1.479232668876648, 1.5594121217727661]],\n",
       " 'metadatas': [[None, None]],\n",
       " 'embeddings': None,\n",
       " 'documents': [['Saikat Das', 'Priyanka Shee']],\n",
       " 'uris': None,\n",
       " 'data': None,\n",
       " 'included': ['metadatas', 'documents', 'distances']}"
      ]
     },
     "execution_count": 13,
     "metadata": {},
     "output_type": "execute_result"
    }
   ],
   "source": [
    "results = collection.query(\n",
    "    query_texts = ['Query is about sayantani ghosh'],\n",
    "    n_results = 2\n",
    ")\n",
    "\n",
    "results"
   ]
  }
 ],
 "metadata": {
  "kernelspec": {
   "display_name": "Python 3 (ipykernel)",
   "language": "python",
   "name": "python3"
  },
  "language_info": {
   "codemirror_mode": {
    "name": "ipython",
    "version": 3
   },
   "file_extension": ".py",
   "mimetype": "text/x-python",
   "name": "python",
   "nbconvert_exporter": "python",
   "pygments_lexer": "ipython3",
   "version": "3.12.4"
  }
 },
 "nbformat": 4,
 "nbformat_minor": 5
}
