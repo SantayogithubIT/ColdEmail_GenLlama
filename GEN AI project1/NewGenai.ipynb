{
 "cells": [
  {
   "cell_type": "code",
   "execution_count": 28,
   "id": "7eb65748-e3c4-40e5-97bf-3a6d15fc5ec0",
   "metadata": {},
   "outputs": [
    {
     "name": "stdout",
     "output_type": "stream",
     "text": [
      "How can I assist you today?\n"
     ]
    }
   ],
   "source": [
    "from langchain_groq import ChatGroq\n",
    "\n",
    "llm = ChatGroq(\n",
    "    temperature=0,\n",
    "    groq_api_key= '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',\n",
    "    model_name= \"llama-3.1-70b-versatile\"\n",
    ")\n",
    "\n",
    "response= llm.invoke(\"hii\")\n",
    "\n",
    "print(response.content)"
   ]
  },
  {
   "cell_type": "code",
   "execution_count": 19,
   "id": "d7580a3b-79e8-448f-a140-a8b81545eebb",
   "metadata": {},
   "outputs": [
    {
     "name": "stderr",
     "output_type": "stream",
     "text": [
      "USER_AGENT environment variable not set, consider setting it to identify your requests.\n"
     ]
    },
    {
     "name": "stdout",
     "output_type": "stream",
     "text": [
      "Apply for Software Engineering Manager, Supply Chain & Planning Technology\n",
      "\n",
      "Search JobsSkip navigationSearch JobsNIKE, INC. JOBSContract JobsJoin The Talent CommunityLife @ NikeOverviewBenefitsBrandsOverviewJordanConverseTeamsOverviewAdministrative SupportAdvanced InnovationAir Manufacturing InnovationAviationCommunicationsCustomer ServiceDesignDigitalFacilitiesFinance & AccountingGovernment & Public AffairsHuman ResourcesInsights & AnalyticsLegalManufacturing & EngineeringMarketingMerchandisingPlanningPrivacyProcurementProduct Creation, Development & ManagementRetail CorporateRetail StoresSalesSocial & Community ImpactSports MarketingStrategic PlanningSupply Chain, Distribution & LogisticsSustainabilityTechnologyLocationsOverviewNike WHQNike New York HQEHQ: Hilversum, The NetherlandsELC: Laakdal, BelgiumGreater China HQDiversity, Equity & InclusionOverviewMilitary InclusionDisability InclusionIndigenous InclusionInternshipsTechnologySoftware Engineering Manager, Supply Chain & Planning TechnologyBeaverton, OregonBecome a Part of the NIKE, Inc. TeamNIKE, Inc. does more than outfit the world’s best athletes. It is a place to explore potential, obliterate boundaries and push out the edges of what can be. The company looks for people who can grow, think, dream and create. Its culture thrives by embracing diversity and rewarding imagination. The brand seeks achievers, leaders and visionaries. At NIKE, Inc. it’s about each person bringing skills and passion to a challenging and constantly evolving game.NIKE is a technology company. From our flagship website and five-star mobile apps to developing products, managing big data and providing leading edge engineering and systems support, our teams at NIKE Global Technology exist to revolutionize the future at the confluence of tech and sport. We invest and develop advances in technology and employ the most creative people in the world, and then give them the support to constantly innovate, iterate and serve consumers more directly and personally.  Our teams are innovative, diverse, multidisciplinary and collaborative, taking technology into the future and bringing the world with it.SUPPLY CHAIN & PLANNING TECHNOLOGY – ENGINEERING MANAGER – DEMAND PLANNING:Become a Part of the NIKE, Inc. TeamNike does more than outfit the world’s best athletes. We are a place to explore potential, obliterate boundaries, and push out the edges of what can be. We’re looking for people who can grow, think, dream, and create. We thrive in a culture that embraces diversity and rewards imagination. We seek achievers, leaders, and visionaries. At Nike, it’s about bringing what you have to a challenging and constantly evolving game.If you’re ready to innovate and lead, it’s time to join Nike’s Global Technology organization. We combine technology and process expertise to deliver one-stop solutions enabling Nike, Inc.'s technical products and services. We are responsible for creating, developing, and deploying seamless, tailored, and inherently social experiences for our consumers. Working with our organization will be rewarding, challenging, and most definitely not be just another job.Who are we looking forAs a Software Engineering Manager for the Demand Planning team, you will join a highly visible engineering team passionate about building demand planning applications that are essential to Nike’s end-to-end planning and supply chain strategy. The successful candidate is an experienced people leader who thrives on solving sophisticated business challenges through technology, teamwork, analysis, and creativityWhat you will work onLead a development team delivering end-to-end technology solutions in support of Assortment Planning and Integrated Business Planning capabilitiesProvide technical leadership and mentorship to the team to ensure conceptual, logical, and integration designs are built following core engineering and architectural principles that meet the supportability, security, and scalability principlesTransform (build/buy/recommend) our technology stack that orchestrates customer engagement journeys with an eye toward optimizing Margins and supporting Nike’s revenue growthRecruit strong engineering talents that represent the diversity of our audience, with clear and consistent hiring strategiesBuild and maintain a culture of modesty, execution excellence, collaboration, mentorship, and open feedbackWho you will work withWorks closely with Planning & Manufacturing leadership to develop Engineering vision, strategy, and execution plans that are aligned with business outcomesPartners with Enterprise Architecture and Strategic Enterprise Capability to develop a sustainable roadmap for Engineering capabilityPartners with Product Management to ensure outcomes are aligned with business expectationsWorks closely with Product Management Organization to translate technical visions into tangible milestone-based plansPartners with Engineering Directors and other Engineering Managers to build a delivery excellence teamWhat you bringA Bachelor's degree in Information Technology, Computer Science, a related field, or equivalent experienceExcellent understanding of business processes in Integrated Enterprise Planning – preferably in Retail and/or Supply Chain8 + years of hands-on experience in any of the packaged Planning solutions development like APO, o9, BlueYonder, solution deployment, and testing with a focus on any of the enterprise planning solutions6+ years of professional experience in enterprise technology solutions including end-to-end Business Blueprinting, development, testing, support, and post-implementation tech solution refinement4+ years' managing, mentoring and coaching 4 or more developers concurrentlyProven experience in Big Data environment such as Hadoop and familiar with modern data technologies such as DatabricksProven experience in implementing enterprise solutions on cloud technologies, such as AWS, Azure, or GCPExceptional collaboration with listening, written and verbal communication skills to effectively interact with both business and technical audiencesComfortable working in a fast-paced and highly matrixed organization environment with ambiguitiesAbility to build positive relationships across Product, Architecture, and Engineering, and influence decisions and changes across loosely coupled teamsNIKE, Inc. is a growth company that looks for team members to grow with it. Nike offers a generous total rewards package, casual work environment, a diverse and inclusive culture, and an electric atmosphere for professional development. No matter the location, or the role, every Nike employee shares one galvanizing mission: To bring inspiration and innovation to every athlete* in the world.NIKE, Inc. is committed to employing a diverse workforce. Qualified applicants will receive consideration without regard to race, color, religion, sex, national origin, age, sexual orientation, gender identity, gender expression, veteran status, or disability.How We HireAt NIKE, Inc. we promise to provide a premium, inclusive, compelling and authentic candidate experience. Delivering on this promise means we allow you to be at your best — and to do that, you need to understand how the hiring process works. Transparency is key.\n",
      "\n",
      "* This overview explains our hiring process for corporate roles. Note there may be different hiring steps involved for non-corporate roles.Start nowBenefitsWhether it’s transportation or financial health, we continually invest in our employees to help them achieve greatness — inside and outside of work. All who work here should be able to realize their full potential.Employee Assistance ProgramEmployee Stock Purchase Plan (ESPP)HolidaysMedical PlanPaid Time Off (PTO)Product DiscountsSabbaticalsLearn moreFIND A STOREBECOME A MEMBERSIGN UP FOR EMAILSEND US FEEDBACKSTUDENT DISCOUNTSGET HELPGET HELPOrder StatusDeliveryReturnsPayment OptionsContact Us On Nike.com InquiriesContact Us On All Other InquiriesABOUT NIKEABOUT NIKENewsCareersInvestorsSustainabilityIndia© 2024 Nike, Inc. All Rights ReservedGuidesNike AdaptNike Air MaxNike FlyleatherNike PegasusNike Zoom FlyNike AirNike FlyEaseNike FreeNike ReactNike ZoomXNike Air Force 1Nike FlyknitNike JoyrideNike VaporflyTerms of SaleTerms of UseNike Privacy Policy\n"
     ]
    }
   ],
   "source": [
    "from langchain_community.document_loaders import WebBaseLoader\n",
    "\n",
    "loader = WebBaseLoader(\"https://jobs.nike.com/job/R-36666?from=job%20search%20funnel\")\n",
    "page_data = loader.load().pop().page_content\n",
    "\n",
    "print(page_data)"
   ]
  },
  {
   "cell_type": "code",
   "execution_count": 29,
   "id": "2735f809-a347-4fa1-8951-b1769e09606f",
   "metadata": {},
   "outputs": [
    {
     "name": "stdout",
     "output_type": "stream",
     "text": [
      "```json\n",
      "{\n",
      "  \"role\": \"Software Engineering Manager, Supply Chain & Planning Technology\",\n",
      "  \"skills\": [\n",
      "    \"Bachelor's degree in Information Technology, Computer Science, or a related field\",\n",
      "    \"8+ years of hands-on experience in packaged Planning solutions development\",\n",
      "    \"6+ years of professional experience in enterprise technology solutions\",\n",
      "    \"4+ years of managing, mentoring, and coaching developers\",\n",
      "    \"Proven experience in Big Data environment such as Hadoop\",\n",
      "    \"Proven experience in implementing enterprise solutions on cloud technologies\",\n",
      "    \"Exceptional collaboration and communication skills\"\n",
      "  ],\n",
      "  \"description\": \"Lead a development team delivering end-to-end technology solutions in support of Assortment Planning and Integrated Business Planning capabilities. Provide technical leadership and mentorship to the team to ensure conceptual, logical, and integration designs are built following core engineering and architectural principles. Transform our technology stack that orchestrates customer engagement journeys with an eye toward optimizing Margins and supporting Nike’s revenue growth.\"\n",
      "}\n",
      "```\n"
     ]
    }
   ],
   "source": [
    "from langchain_core.prompts import PromptTemplate\n",
    "\n",
    "\n",
    "prompt_extract = PromptTemplate.from_template(\n",
    "              \"\"\"\n",
    "              ###SCRAPED TEXT FROM WEBSITE:\n",
    "              {page_data}\n",
    "              ###INSTRUTIONS:\n",
    "             The Scrapped text is from a career's page of a website\n",
    "             Your job is to extract the job posting and return them into JSON format\n",
    "             containing the following keys:\n",
    "             'role', 'skills', 'desccription'.\n",
    "             Only return in Valid JSON.\n",
    "             ###Valid JSON(NO PREAMBLE):\n",
    "             \"\"\"\n",
    ")\n",
    "             \n",
    "\n",
    "\n",
    "chain_extract = prompt_extract | llm\n",
    "\n",
    "res= chain_extract.invoke(input ={'page_data': page_data})\n",
    "\n",
    "print(res.content)\n",
    "    "
   ]
  },
  {
   "cell_type": "code",
   "execution_count": 30,
   "id": "bb645c27-a847-46c9-92cc-8b72e5a67a24",
   "metadata": {},
   "outputs": [
    {
     "data": {
      "text/plain": [
       "{'role': 'Software Engineering Manager, Supply Chain & Planning Technology',\n",
       " 'skills': [\"Bachelor's degree in Information Technology, Computer Science, or a related field\",\n",
       "  '8+ years of hands-on experience in packaged Planning solutions development',\n",
       "  '6+ years of professional experience in enterprise technology solutions',\n",
       "  '4+ years of managing, mentoring, and coaching developers',\n",
       "  'Proven experience in Big Data environment such as Hadoop',\n",
       "  'Proven experience in implementing enterprise solutions on cloud technologies',\n",
       "  'Exceptional collaboration and communication skills'],\n",
       " 'description': 'Lead a development team delivering end-to-end technology solutions in support of Assortment Planning and Integrated Business Planning capabilities. Provide technical leadership and mentorship to the team to ensure conceptual, logical, and integration designs are built following core engineering and architectural principles. Transform our technology stack that orchestrates customer engagement journeys with an eye toward optimizing Margins and supporting Nike’s revenue growth.'}"
      ]
     },
     "execution_count": 30,
     "metadata": {},
     "output_type": "execute_result"
    }
   ],
   "source": [
    "from langchain_core.output_parsers import JsonOutputParser\n",
    "\n",
    "json_parser = JsonOutputParser()\n",
    "json_res= json_parser.parse(res.content)\n",
    "json_res"
   ]
  },
  {
   "cell_type": "code",
   "execution_count": 31,
   "id": "3d971588-a6af-496c-9496-36ed166f1381",
   "metadata": {},
   "outputs": [
    {
     "data": {
      "text/plain": [
       "dict"
      ]
     },
     "execution_count": 31,
     "metadata": {},
     "output_type": "execute_result"
    }
   ],
   "source": [
    "type(json_res)"
   ]
  },
  {
   "cell_type": "code",
   "execution_count": 3,
   "id": "76deab25-22ae-47d0-abff-71f165452137",
   "metadata": {},
   "outputs": [
    {
     "data": {
      "text/html": [
       "<div>\n",
       "<style scoped>\n",
       "    .dataframe tbody tr th:only-of-type {\n",
       "        vertical-align: middle;\n",
       "    }\n",
       "\n",
       "    .dataframe tbody tr th {\n",
       "        vertical-align: top;\n",
       "    }\n",
       "\n",
       "    .dataframe thead th {\n",
       "        text-align: right;\n",
       "    }\n",
       "</style>\n",
       "<table border=\"1\" class=\"dataframe\">\n",
       "  <thead>\n",
       "    <tr style=\"text-align: right;\">\n",
       "      <th></th>\n",
       "      <th>Techstack</th>\n",
       "      <th>Links</th>\n",
       "    </tr>\n",
       "  </thead>\n",
       "  <tbody>\n",
       "    <tr>\n",
       "      <th>0</th>\n",
       "      <td>React, Node.js, MongoDB</td>\n",
       "      <td>https://example.com/react-portfolio</td>\n",
       "    </tr>\n",
       "    <tr>\n",
       "      <th>1</th>\n",
       "      <td>Angular,.NET, SQL Server</td>\n",
       "      <td>https://example.com/angular-portfolio</td>\n",
       "    </tr>\n",
       "    <tr>\n",
       "      <th>2</th>\n",
       "      <td>Vue.js, Ruby on Rails, PostgreSQL</td>\n",
       "      <td>https://example.com/vue-portfolio</td>\n",
       "    </tr>\n",
       "    <tr>\n",
       "      <th>3</th>\n",
       "      <td>Python, Django, MySQL</td>\n",
       "      <td>https://example.com/python-portfolio</td>\n",
       "    </tr>\n",
       "    <tr>\n",
       "      <th>4</th>\n",
       "      <td>Java, Spring Boot, Oracle</td>\n",
       "      <td>https://example.com/java-portfolio</td>\n",
       "    </tr>\n",
       "    <tr>\n",
       "      <th>5</th>\n",
       "      <td>Flutter, Firebase, GraphQL</td>\n",
       "      <td>https://example.com/flutter-portfolio</td>\n",
       "    </tr>\n",
       "    <tr>\n",
       "      <th>6</th>\n",
       "      <td>WordPress, PHP, MySQL</td>\n",
       "      <td>https://example.com/wordpress-portfolio</td>\n",
       "    </tr>\n",
       "    <tr>\n",
       "      <th>7</th>\n",
       "      <td>Magento, PHP, MySQL</td>\n",
       "      <td>https://example.com/magento-portfolio</td>\n",
       "    </tr>\n",
       "    <tr>\n",
       "      <th>8</th>\n",
       "      <td>React Native, Node.js, MongoDB</td>\n",
       "      <td>https://example.com/react-native-portfolio</td>\n",
       "    </tr>\n",
       "    <tr>\n",
       "      <th>9</th>\n",
       "      <td>iOS, Swift, Core Data</td>\n",
       "      <td>https://example.com/ios-portfolio</td>\n",
       "    </tr>\n",
       "    <tr>\n",
       "      <th>10</th>\n",
       "      <td>Android, Java, Room Persistence</td>\n",
       "      <td>https://example.com/android-portfolio</td>\n",
       "    </tr>\n",
       "    <tr>\n",
       "      <th>11</th>\n",
       "      <td>Kotlin, Android, Firebase</td>\n",
       "      <td>https://example.com/kotlin-android-portfolio</td>\n",
       "    </tr>\n",
       "    <tr>\n",
       "      <th>12</th>\n",
       "      <td>Android TV, Kotlin, Android NDK</td>\n",
       "      <td>https://example.com/android-tv-portfolio</td>\n",
       "    </tr>\n",
       "    <tr>\n",
       "      <th>13</th>\n",
       "      <td>iOS, Swift, ARKit</td>\n",
       "      <td>https://example.com/ios-ar-portfolio</td>\n",
       "    </tr>\n",
       "    <tr>\n",
       "      <th>14</th>\n",
       "      <td>Cross-platform, Xamarin, Azure</td>\n",
       "      <td>https://example.com/xamarin-portfolio</td>\n",
       "    </tr>\n",
       "    <tr>\n",
       "      <th>15</th>\n",
       "      <td>Backend, Kotlin, Spring Boot</td>\n",
       "      <td>https://example.com/kotlin-backend-portfolio</td>\n",
       "    </tr>\n",
       "    <tr>\n",
       "      <th>16</th>\n",
       "      <td>Frontend, TypeScript, Angular</td>\n",
       "      <td>https://example.com/typescript-frontend-portfolio</td>\n",
       "    </tr>\n",
       "    <tr>\n",
       "      <th>17</th>\n",
       "      <td>Full-stack, JavaScript, Express.js</td>\n",
       "      <td>https://example.com/full-stack-js-portfolio</td>\n",
       "    </tr>\n",
       "    <tr>\n",
       "      <th>18</th>\n",
       "      <td>Machine Learning, Python, TensorFlow</td>\n",
       "      <td>https://example.com/ml-python-portfolio</td>\n",
       "    </tr>\n",
       "    <tr>\n",
       "      <th>19</th>\n",
       "      <td>DevOps, Jenkins, Docker</td>\n",
       "      <td>https://example.com/devops-portfolio</td>\n",
       "    </tr>\n",
       "  </tbody>\n",
       "</table>\n",
       "</div>"
      ],
      "text/plain": [
       "                               Techstack  \\\n",
       "0                React, Node.js, MongoDB   \n",
       "1               Angular,.NET, SQL Server   \n",
       "2      Vue.js, Ruby on Rails, PostgreSQL   \n",
       "3                  Python, Django, MySQL   \n",
       "4              Java, Spring Boot, Oracle   \n",
       "5             Flutter, Firebase, GraphQL   \n",
       "6                  WordPress, PHP, MySQL   \n",
       "7                    Magento, PHP, MySQL   \n",
       "8         React Native, Node.js, MongoDB   \n",
       "9                  iOS, Swift, Core Data   \n",
       "10       Android, Java, Room Persistence   \n",
       "11             Kotlin, Android, Firebase   \n",
       "12       Android TV, Kotlin, Android NDK   \n",
       "13                     iOS, Swift, ARKit   \n",
       "14        Cross-platform, Xamarin, Azure   \n",
       "15          Backend, Kotlin, Spring Boot   \n",
       "16         Frontend, TypeScript, Angular   \n",
       "17    Full-stack, JavaScript, Express.js   \n",
       "18  Machine Learning, Python, TensorFlow   \n",
       "19               DevOps, Jenkins, Docker   \n",
       "\n",
       "                                                Links  \n",
       "0                 https://example.com/react-portfolio  \n",
       "1               https://example.com/angular-portfolio  \n",
       "2                   https://example.com/vue-portfolio  \n",
       "3                https://example.com/python-portfolio  \n",
       "4                  https://example.com/java-portfolio  \n",
       "5               https://example.com/flutter-portfolio  \n",
       "6             https://example.com/wordpress-portfolio  \n",
       "7               https://example.com/magento-portfolio  \n",
       "8          https://example.com/react-native-portfolio  \n",
       "9                   https://example.com/ios-portfolio  \n",
       "10              https://example.com/android-portfolio  \n",
       "11       https://example.com/kotlin-android-portfolio  \n",
       "12           https://example.com/android-tv-portfolio  \n",
       "13               https://example.com/ios-ar-portfolio  \n",
       "14              https://example.com/xamarin-portfolio  \n",
       "15       https://example.com/kotlin-backend-portfolio  \n",
       "16  https://example.com/typescript-frontend-portfolio  \n",
       "17        https://example.com/full-stack-js-portfolio  \n",
       "18            https://example.com/ml-python-portfolio  \n",
       "19               https://example.com/devops-portfolio  "
      ]
     },
     "execution_count": 3,
     "metadata": {},
     "output_type": "execute_result"
    }
   ],
   "source": [
    "import pandas as  pd\n",
    "df = pd.read_csv(\"my_portfolio.csv\")\n",
    "df"
   ]
  },
  {
   "cell_type": "code",
   "execution_count": 8,
   "id": "32577e15-0c0e-4efa-92fb-d7d5c5d8b121",
   "metadata": {},
   "outputs": [],
   "source": [
    "import chromadb\n",
    "import uuid\n",
    "client = chromadb.PersistentClient('vectorstore')\n",
    "collection= client.get_or_create_collection(name= 'portfolio')\n",
    "\n",
    "if not collection.count():\n",
    "    for _, row in df.iterrows():\n",
    "        collection.add(\n",
    "            documents= row[\"Techstack\"],\n",
    "            metadatas = {\"links\": row[\"Links\"]},\n",
    "            ids= [str(uuid.uuid4())]\n",
    "        )\n",
    "            "
   ]
  },
  {
   "cell_type": "code",
   "execution_count": 37,
   "id": "81b16ffc-b3d3-42af-900a-8190f48d6ed2",
   "metadata": {},
   "outputs": [
    {
     "data": {
      "text/plain": [
       "[[{'links': 'https://example.com/ml-python-portfolio'},\n",
       "  {'links': 'https://example.com/python-portfolio'}]]"
      ]
     },
     "execution_count": 37,
     "metadata": {},
     "output_type": "execute_result"
    }
   ],
   "source": [
    "links = collection.query(\n",
    "    query_texts = ['skills'],\n",
    "    n_results=2).get('metadatas', [])\n",
    "links"
   ]
  },
  {
   "cell_type": "code",
   "execution_count": 38,
   "id": "b9772fd0-d465-41a2-809b-f2b2c9e5a913",
   "metadata": {},
   "outputs": [
    {
     "data": {
      "text/plain": [
       "{'role': 'Software Engineering Manager, Supply Chain & Planning Technology',\n",
       " 'skills': [\"Bachelor's degree in Information Technology, Computer Science, or a related field\",\n",
       "  '8+ years of hands-on experience in packaged Planning solutions development',\n",
       "  '6+ years of professional experience in enterprise technology solutions',\n",
       "  '4+ years of managing, mentoring, and coaching developers',\n",
       "  'Proven experience in Big Data environment such as Hadoop',\n",
       "  'Proven experience in implementing enterprise solutions on cloud technologies',\n",
       "  'Exceptional collaboration and communication skills'],\n",
       " 'description': 'Lead a development team delivering end-to-end technology solutions in support of Assortment Planning and Integrated Business Planning capabilities. Provide technical leadership and mentorship to the team to ensure conceptual, logical, and integration designs are built following core engineering and architectural principles. Transform our technology stack that orchestrates customer engagement journeys with an eye toward optimizing Margins and supporting Nike’s revenue growth.'}"
      ]
     },
     "execution_count": 38,
     "metadata": {},
     "output_type": "execute_result"
    }
   ],
   "source": [
    "job\n"
   ]
  },
  {
   "cell_type": "code",
   "execution_count": 40,
   "id": "32e0334c-ead2-4335-ae51-dc8ec6f7e597",
   "metadata": {},
   "outputs": [
    {
     "data": {
      "text/plain": [
       "[\"Bachelor's degree in Information Technology, Computer Science, or a related field\",\n",
       " '8+ years of hands-on experience in packaged Planning solutions development',\n",
       " '6+ years of professional experience in enterprise technology solutions',\n",
       " '4+ years of managing, mentoring, and coaching developers',\n",
       " 'Proven experience in Big Data environment such as Hadoop',\n",
       " 'Proven experience in implementing enterprise solutions on cloud technologies',\n",
       " 'Exceptional collaboration and communication skills']"
      ]
     },
     "execution_count": 40,
     "metadata": {},
     "output_type": "execute_result"
    }
   ],
   "source": [
    "job = json_res\n",
    "\n",
    "job['skills']"
   ]
  },
  {
   "cell_type": "code",
   "execution_count": 42,
   "id": "f37a4f26-43b1-49df-b150-9f765296365f",
   "metadata": {},
   "outputs": [
    {
     "name": "stdout",
     "output_type": "stream",
     "text": [
      "Subject: Unlocking Scalable Technology Solutions for Nike's Supply Chain & Planning Technology\n",
      "\n",
      "Dear Hiring Manager,\n",
      "\n",
      "I came across the Software Engineering Manager, Supply Chain & Planning Technology role at Nike and was impressed by the company's commitment to innovation and customer engagement. As a Business Development Executive at Tata Consultancy Services (TCS), I'd like to highlight how our expertise can support Nike's technology stack transformation.\n",
      "\n",
      "With over 20 years of experience in delivering end-to-end technology solutions, TCS has empowered numerous enterprises, including those in the retail and manufacturing sectors, to achieve scalability, process optimization, cost reduction, and heightened overall efficiency. Our expertise in Big Data environments, such as Hadoop, and cloud technologies aligns with Nike's requirements.\n",
      "\n",
      "Our team has successfully implemented enterprise solutions on cloud technologies, ensuring seamless integration and optimized performance. We've also developed and deployed AI-powered solutions using Python and machine learning frameworks, which can be leveraged to enhance Nike's Assortment Planning and Integrated Business Planning capabilities.\n",
      "\n",
      "To give you a glimpse into our capabilities, I'd like to share some relevant examples from our portfolio:\n",
      "\n",
      "* Our machine learning and Python expertise can be seen in our [ML Python Portfolio](https://example.com/ml-python-portfolio), which showcases our ability to develop and deploy scalable AI-powered solutions.\n",
      "* Our Python expertise is further demonstrated in our [Python Portfolio](https://example.com/python-portfolio), highlighting our proficiency in developing and integrating Python-based solutions.\n",
      "\n",
      "At TCS, we're committed to delivering exceptional collaboration and communication skills, ensuring seamless integration with your team. Our expertise in managing, mentoring, and coaching developers will support Nike's technology stack transformation.\n",
      "\n",
      "I'd be delighted to discuss how TCS can support Nike's technology needs and explore potential collaboration opportunities. Please feel free to contact me at your convenience.\n",
      "\n",
      "Best regards,\n",
      "\n",
      "Santayo\n",
      "Business Development Executive\n",
      "Tata Consultancy Services (TCS)\n"
     ]
    }
   ],
   "source": [
    "from langchain_core.prompts import PromptTemplate\n",
    "\n",
    "\n",
    "prompt_email = PromptTemplate.from_template(\n",
    "              \"\"\"\n",
    "              ###SCRAPED TEXT FROM WEBSITE:\n",
    "              {job_description}\n",
    "              ### INSTRUCTION:\n",
    "        You are Santayo, a business development executive at Amazon. TCS is an Indian multinational IT services and consulting company.\n",
    "        It's a part of the Tata Group, one of India's largest and oldest conglomerates.\n",
    "        Over our experience, we have empowered numerous enterprises with tailored solutions, fostering scalability, \n",
    "        process optimization, cost reduction, and heightened overall efficiency. \n",
    "        Your job is to write a cold email to the client regarding the job mentioned above describing the capability of Amazon\n",
    "        in fulfilling their needs.\n",
    "        Also add the most relevant ones from the following links to showcase TCS's portfolio: {link_list}\n",
    "        Remember you are Santayo, BDE at TCS. \n",
    "        Do not provide a preamble.\n",
    "        ### EMAIL (NO PREAMBLE):\n",
    "             \"\"\"\n",
    ")\n",
    "             \n",
    "\n",
    "\n",
    "chain_email = prompt_email| llm\n",
    "\n",
    "res= chain_email.invoke(input ={\"job_description\" : str(job), \"link_list\" : links })\n",
    "\n",
    "print(res.content)"
   ]
  }
 ],
 "metadata": {
  "kernelspec": {
   "display_name": "Python 3 (ipykernel)",
   "language": "python",
   "name": "python3"
  },
  "language_info": {
   "codemirror_mode": {
    "name": "ipython",
    "version": 3
   },
   "file_extension": ".py",
   "mimetype": "text/x-python",
   "name": "python",
   "nbconvert_exporter": "python",
   "pygments_lexer": "ipython3",
   "version": "3.12.4"
  }
 },
 "nbformat": 4,
 "nbformat_minor": 5
}
